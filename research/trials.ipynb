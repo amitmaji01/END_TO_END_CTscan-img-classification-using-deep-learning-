{
 "cells": [
  {
   "cell_type": "code",
   "execution_count": 9,
   "metadata": {},
   "outputs": [],
   "source": [
    "import gdown"
   ]
  },
  {
   "cell_type": "code",
   "execution_count": 10,
   "metadata": {},
   "outputs": [],
   "source": [
    "url=\"https://drive.google.com/file/d/1R5hA7udm_es-LqRH-Ii2HHvmZH70XCqx/view?usp=drive_link\""
   ]
  },
  {
   "cell_type": "code",
   "execution_count": 12,
   "metadata": {},
   "outputs": [],
   "source": [
    "file_id=url.split(\"/\")[-2]"
   ]
  },
  {
   "cell_type": "code",
   "execution_count": 14,
   "metadata": {},
   "outputs": [
    {
     "name": "stderr",
     "output_type": "stream",
     "text": [
      "Downloading...\n",
      "From (original): https://drive.google.com/uc?/export=download&id=1R5hA7udm_es-LqRH-Ii2HHvmZH70XCqx\n",
      "From (redirected): https://drive.google.com/uc?%2Fexport=download&id=1R5hA7udm_es-LqRH-Ii2HHvmZH70XCqx&confirm=t&uuid=f00c3b83-3789-4585-ae5f-f2d8f295e7b4\n",
      "To: c:\\Users\\91810\\project\\ct\\END_TO_END_CTscan-img-classification-using-deep-learning-\\research\\dataset_ctscan.zip\n",
      "100%|██████████| 72.1M/72.1M [00:50<00:00, 1.44MB/s]\n"
     ]
    },
    {
     "data": {
      "text/plain": [
       "'dataset_ctscan.zip'"
      ]
     },
     "execution_count": 14,
     "metadata": {},
     "output_type": "execute_result"
    }
   ],
   "source": [
    "prefix='https://drive.google.com/uc?/export=download&id='\n",
    "gdown.download(prefix+file_id,\"dataset_ctscan.zip\")"
   ]
  },
  {
   "cell_type": "code",
   "execution_count": null,
   "metadata": {},
   "outputs": [],
   "source": []
  }
 ],
 "metadata": {
  "kernelspec": {
   "display_name": "ct_scan",
   "language": "python",
   "name": "python3"
  },
  "language_info": {
   "codemirror_mode": {
    "name": "ipython",
    "version": 3
   },
   "file_extension": ".py",
   "mimetype": "text/x-python",
   "name": "python",
   "nbconvert_exporter": "python",
   "pygments_lexer": "ipython3",
   "version": "3.8.18"
  }
 },
 "nbformat": 4,
 "nbformat_minor": 2
}
